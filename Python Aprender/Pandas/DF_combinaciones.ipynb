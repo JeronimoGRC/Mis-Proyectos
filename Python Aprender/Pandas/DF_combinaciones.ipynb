{
 "cells": [
  {
   "cell_type": "code",
   "execution_count": 2,
   "id": "c67f422e-5713-4d71-b1a4-4056b3e7b412",
   "metadata": {},
   "outputs": [],
   "source": [
    "import pandas as pd"
   ]
  },
  {
   "cell_type": "code",
   "execution_count": 10,
   "id": "83443cc5-ab19-4e53-8444-3e94c08551d0",
   "metadata": {},
   "outputs": [],
   "source": [
    "df1 = pd.DataFrame({'NOMBRE':['Jose','Axel'],\n",
    "                    'CARRERA':['Economia','Arquitectura'],\n",
    "                    'EDAD':[22,26]}).set_index('NOMBRE')"
   ]
  },
  {
   "cell_type": "code",
   "execution_count": 12,
   "id": "f7e81c74-676f-4356-8ef1-08dbca1f859c",
   "metadata": {},
   "outputs": [],
   "source": [
    "df2 = pd.DataFrame({'NOMBRE':['Juan','Mark'],\n",
    "                    'CARRERA':['Informatica','Arquitectura'],\n",
    "                    'EDAD':[23,27]}).set_index('NOMBRE')"
   ]
  },
  {
   "cell_type": "code",
   "execution_count": 18,
   "id": "8c4eaa24-5b63-4844-b51d-4cfdc4120c1c",
   "metadata": {},
   "outputs": [],
   "source": [
    "df = pd.concat([df1,df2]) # Tienen que tener el mismo indice de columnas"
   ]
  },
  {
   "cell_type": "code",
   "execution_count": 16,
   "id": "410ac695-ace1-4e65-969d-4fa214a064ae",
   "metadata": {},
   "outputs": [
    {
     "data": {
      "text/html": [
       "<div>\n",
       "<style scoped>\n",
       "    .dataframe tbody tr th:only-of-type {\n",
       "        vertical-align: middle;\n",
       "    }\n",
       "\n",
       "    .dataframe tbody tr th {\n",
       "        vertical-align: top;\n",
       "    }\n",
       "\n",
       "    .dataframe thead th {\n",
       "        text-align: right;\n",
       "    }\n",
       "</style>\n",
       "<table border=\"1\" class=\"dataframe\">\n",
       "  <thead>\n",
       "    <tr style=\"text-align: right;\">\n",
       "      <th></th>\n",
       "      <th>CARRERA</th>\n",
       "      <th>EDAD</th>\n",
       "    </tr>\n",
       "    <tr>\n",
       "      <th>NOMBRE</th>\n",
       "      <th></th>\n",
       "      <th></th>\n",
       "    </tr>\n",
       "  </thead>\n",
       "  <tbody>\n",
       "    <tr>\n",
       "      <th>Jose</th>\n",
       "      <td>Economia</td>\n",
       "      <td>22</td>\n",
       "    </tr>\n",
       "    <tr>\n",
       "      <th>Axel</th>\n",
       "      <td>Arquitectura</td>\n",
       "      <td>26</td>\n",
       "    </tr>\n",
       "    <tr>\n",
       "      <th>Juan</th>\n",
       "      <td>Informatica</td>\n",
       "      <td>23</td>\n",
       "    </tr>\n",
       "    <tr>\n",
       "      <th>Mark</th>\n",
       "      <td>Arquitectura</td>\n",
       "      <td>27</td>\n",
       "    </tr>\n",
       "  </tbody>\n",
       "</table>\n",
       "</div>"
      ],
      "text/plain": [
       "             CARRERA  EDAD\n",
       "NOMBRE                    \n",
       "Jose        Economia    22\n",
       "Axel    Arquitectura    26\n",
       "Juan     Informatica    23\n",
       "Mark    Arquitectura    27"
      ]
     },
     "execution_count": 16,
     "metadata": {},
     "output_type": "execute_result"
    }
   ],
   "source": [
    "df"
   ]
  },
  {
   "cell_type": "code",
   "execution_count": 32,
   "id": "698ded9c-759d-40c1-8a4b-11ca499b3449",
   "metadata": {},
   "outputs": [],
   "source": [
    "df3 = pd.DataFrame({'AUTOS':['Nissan','Ford','Audi'],\n",
    "                    'COLOR':['blanco','azul','rojo']}).set_index('AUTOS')"
   ]
  },
  {
   "cell_type": "code",
   "execution_count": 30,
   "id": "7825b88c-58ef-4e9a-bf71-54e66178263d",
   "metadata": {},
   "outputs": [],
   "source": [
    "df4 = pd.DataFrame({'AUTOS':['Nissan','Ford','Audi'],\n",
    "                    'MODELO':[2018,2020,2022]}).set_index('AUTOS')"
   ]
  },
  {
   "cell_type": "code",
   "execution_count": 38,
   "id": "d6c3903c-1862-4014-8124-56ead6904395",
   "metadata": {},
   "outputs": [],
   "source": [
    "df5 = pd.concat([df3,df4], axis=1) # axis=0 va por defecto"
   ]
  },
  {
   "cell_type": "code",
   "execution_count": 42,
   "id": "5a4234bb-8f33-467b-9711-c412fa63644f",
   "metadata": {},
   "outputs": [
    {
     "data": {
      "text/html": [
       "<div>\n",
       "<style scoped>\n",
       "    .dataframe tbody tr th:only-of-type {\n",
       "        vertical-align: middle;\n",
       "    }\n",
       "\n",
       "    .dataframe tbody tr th {\n",
       "        vertical-align: top;\n",
       "    }\n",
       "\n",
       "    .dataframe thead th {\n",
       "        text-align: right;\n",
       "    }\n",
       "</style>\n",
       "<table border=\"1\" class=\"dataframe\">\n",
       "  <thead>\n",
       "    <tr style=\"text-align: right;\">\n",
       "      <th></th>\n",
       "      <th>COLOR</th>\n",
       "      <th>MODELO</th>\n",
       "    </tr>\n",
       "    <tr>\n",
       "      <th>AUTOS</th>\n",
       "      <th></th>\n",
       "      <th></th>\n",
       "    </tr>\n",
       "  </thead>\n",
       "  <tbody>\n",
       "    <tr>\n",
       "      <th>Nissan</th>\n",
       "      <td>blanco</td>\n",
       "      <td>2018</td>\n",
       "    </tr>\n",
       "    <tr>\n",
       "      <th>Ford</th>\n",
       "      <td>azul</td>\n",
       "      <td>2020</td>\n",
       "    </tr>\n",
       "    <tr>\n",
       "      <th>Audi</th>\n",
       "      <td>rojo</td>\n",
       "      <td>2022</td>\n",
       "    </tr>\n",
       "  </tbody>\n",
       "</table>\n",
       "</div>"
      ],
      "text/plain": [
       "         COLOR  MODELO\n",
       "AUTOS                 \n",
       "Nissan  blanco    2018\n",
       "Ford      azul    2020\n",
       "Audi      rojo    2022"
      ]
     },
     "execution_count": 42,
     "metadata": {},
     "output_type": "execute_result"
    }
   ],
   "source": [
    "df5 # axis=1 para poder fusionar las dos tablas que tienen distintas filas"
   ]
  },
  {
   "cell_type": "code",
   "execution_count": 44,
   "id": "3ef2b871-273f-4c75-9798-ba2ad38ead71",
   "metadata": {},
   "outputs": [],
   "source": [
    "df6 = pd.DataFrame({'AUTOS':['Nissan','Ford','Audi'],\n",
    "                    'MODELO':[2018,2020,2022]})"
   ]
  },
  {
   "cell_type": "code",
   "execution_count": 58,
   "id": "a1bc40db-270d-4d20-ab49-c38e5d643796",
   "metadata": {},
   "outputs": [],
   "source": [
    "df7 = pd.DataFrame({'AUTOS':['toyota','Ford','Audi'],\n",
    "                    'COLOR':['blanco','azul','rojo']})"
   ]
  },
  {
   "cell_type": "code",
   "execution_count": 68,
   "id": "152746e4-8848-4b33-852a-6c0c3850dcb6",
   "metadata": {},
   "outputs": [],
   "source": [
    "df8 = pd.merge(df6,df7, on='AUTOS', how='outer') # Mezclamos los dos Dataframes, puedes poner right o left en funcion de si quieres\n",
    "#tomar como principal el primer(df6) o el segundo(df7)"
   ]
  },
  {
   "cell_type": "code",
   "execution_count": 62,
   "id": "81150a7b-ff8d-4744-ba12-d329d8610b2f",
   "metadata": {},
   "outputs": [
    {
     "data": {
      "text/html": [
       "<div>\n",
       "<style scoped>\n",
       "    .dataframe tbody tr th:only-of-type {\n",
       "        vertical-align: middle;\n",
       "    }\n",
       "\n",
       "    .dataframe tbody tr th {\n",
       "        vertical-align: top;\n",
       "    }\n",
       "\n",
       "    .dataframe thead th {\n",
       "        text-align: right;\n",
       "    }\n",
       "</style>\n",
       "<table border=\"1\" class=\"dataframe\">\n",
       "  <thead>\n",
       "    <tr style=\"text-align: right;\">\n",
       "      <th></th>\n",
       "      <th>AUTOS</th>\n",
       "      <th>MODELO</th>\n",
       "      <th>COLOR</th>\n",
       "    </tr>\n",
       "  </thead>\n",
       "  <tbody>\n",
       "    <tr>\n",
       "      <th>0</th>\n",
       "      <td>Audi</td>\n",
       "      <td>2022.0</td>\n",
       "      <td>rojo</td>\n",
       "    </tr>\n",
       "    <tr>\n",
       "      <th>1</th>\n",
       "      <td>Ford</td>\n",
       "      <td>2020.0</td>\n",
       "      <td>azul</td>\n",
       "    </tr>\n",
       "    <tr>\n",
       "      <th>2</th>\n",
       "      <td>Nissan</td>\n",
       "      <td>2018.0</td>\n",
       "      <td>NaN</td>\n",
       "    </tr>\n",
       "    <tr>\n",
       "      <th>3</th>\n",
       "      <td>toyota</td>\n",
       "      <td>NaN</td>\n",
       "      <td>blanco</td>\n",
       "    </tr>\n",
       "  </tbody>\n",
       "</table>\n",
       "</div>"
      ],
      "text/plain": [
       "    AUTOS  MODELO   COLOR\n",
       "0    Audi  2022.0    rojo\n",
       "1    Ford  2020.0    azul\n",
       "2  Nissan  2018.0     NaN\n",
       "3  toyota     NaN  blanco"
      ]
     },
     "execution_count": 62,
     "metadata": {},
     "output_type": "execute_result"
    }
   ],
   "source": [
    "df8"
   ]
  }
 ],
 "metadata": {
  "kernelspec": {
   "display_name": "Python 3 (ipykernel)",
   "language": "python",
   "name": "python3"
  },
  "language_info": {
   "codemirror_mode": {
    "name": "ipython",
    "version": 3
   },
   "file_extension": ".py",
   "mimetype": "text/x-python",
   "name": "python",
   "nbconvert_exporter": "python",
   "pygments_lexer": "ipython3",
   "version": "3.12.7"
  }
 },
 "nbformat": 4,
 "nbformat_minor": 5
}
