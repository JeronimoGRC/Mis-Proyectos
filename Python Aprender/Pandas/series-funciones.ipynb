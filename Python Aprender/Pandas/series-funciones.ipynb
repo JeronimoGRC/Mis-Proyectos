{
 "cells": [
  {
   "cell_type": "code",
   "execution_count": 1,
   "id": "3a749e27-dd35-4d5e-9017-7b16cef4ce24",
   "metadata": {},
   "outputs": [],
   "source": [
    "import pandas as pd"
   ]
  },
  {
   "cell_type": "code",
   "execution_count": 3,
   "id": "59b28c6e-3914-441b-afc1-f05140293bc7",
   "metadata": {},
   "outputs": [],
   "source": [
    "a_numeros = [1,2,3,4,5,6,7,8,9]"
   ]
  },
  {
   "cell_type": "code",
   "execution_count": 7,
   "id": "837b7949-5767-48a6-a82e-4d7f4ff1c6b4",
   "metadata": {},
   "outputs": [],
   "source": [
    "numeros = pd.Series(a_numeros)"
   ]
  },
  {
   "cell_type": "code",
   "execution_count": 9,
   "id": "c1d75b94-44cf-4ada-bb41-8825f081df66",
   "metadata": {},
   "outputs": [
    {
     "data": {
      "text/plain": [
       "45"
      ]
     },
     "execution_count": 9,
     "metadata": {},
     "output_type": "execute_result"
    }
   ],
   "source": [
    "numeros.sum() #Suma el todo de la serie"
   ]
  },
  {
   "cell_type": "code",
   "execution_count": 11,
   "id": "ed2aee9d-5f11-488d-94f4-e051917e12b9",
   "metadata": {},
   "outputs": [
    {
     "data": {
      "text/plain": [
       "9"
      ]
     },
     "execution_count": 11,
     "metadata": {},
     "output_type": "execute_result"
    }
   ],
   "source": [
    "numeros.max()"
   ]
  },
  {
   "cell_type": "code",
   "execution_count": 13,
   "id": "9c127dfb-3ec6-47b9-841f-cd5137efec9a",
   "metadata": {},
   "outputs": [
    {
     "data": {
      "text/plain": [
       "1"
      ]
     },
     "execution_count": 13,
     "metadata": {},
     "output_type": "execute_result"
    }
   ],
   "source": [
    "numeros.min()"
   ]
  },
  {
   "cell_type": "code",
   "execution_count": 15,
   "id": "9f6ca812-5850-4430-a6f8-e2a529854921",
   "metadata": {},
   "outputs": [],
   "source": [
    "#Encontrar una serie a partir de nuestra desviación estandar"
   ]
  },
  {
   "cell_type": "code",
   "execution_count": 17,
   "id": "4a9167b1-6245-4bc6-959b-0544ba8ed6ec",
   "metadata": {},
   "outputs": [
    {
     "data": {
      "text/plain": [
       "2.7386127875258306"
      ]
     },
     "execution_count": 17,
     "metadata": {},
     "output_type": "execute_result"
    }
   ],
   "source": [
    "numeros.std()"
   ]
  },
  {
   "cell_type": "code",
   "execution_count": 19,
   "id": "cf068b58-4de0-41da-bd82-cd2df037713b",
   "metadata": {},
   "outputs": [],
   "source": [
    "#Resumen del contenido de la serie"
   ]
  },
  {
   "cell_type": "code",
   "execution_count": 21,
   "id": "90037c75-40ea-471c-a82d-fb10d7cfa852",
   "metadata": {},
   "outputs": [
    {
     "data": {
      "text/plain": [
       "count    9.000000\n",
       "mean     5.000000\n",
       "std      2.738613\n",
       "min      1.000000\n",
       "25%      3.000000\n",
       "50%      5.000000\n",
       "75%      7.000000\n",
       "max      9.000000\n",
       "dtype: float64"
      ]
     },
     "execution_count": 21,
     "metadata": {},
     "output_type": "execute_result"
    }
   ],
   "source": [
    "numeros.describe()"
   ]
  },
  {
   "cell_type": "code",
   "execution_count": null,
   "id": "4368e537-cf14-47d2-8630-bf1e6a45ec2c",
   "metadata": {},
   "outputs": [],
   "source": []
  }
 ],
 "metadata": {
  "kernelspec": {
   "display_name": "Python 3 (ipykernel)",
   "language": "python",
   "name": "python3"
  },
  "language_info": {
   "codemirror_mode": {
    "name": "ipython",
    "version": 3
   },
   "file_extension": ".py",
   "mimetype": "text/x-python",
   "name": "python",
   "nbconvert_exporter": "python",
   "pygments_lexer": "ipython3",
   "version": "3.12.7"
  }
 },
 "nbformat": 4,
 "nbformat_minor": 5
}
