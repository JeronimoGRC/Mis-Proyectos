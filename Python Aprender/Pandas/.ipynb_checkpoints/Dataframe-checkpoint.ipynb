{
 "cells": [
  {
   "cell_type": "code",
   "execution_count": 1,
   "id": "41567c30-8580-46b6-921b-c06ab9e00602",
   "metadata": {},
   "outputs": [],
   "source": [
    "import pandas as pd"
   ]
  },
  {
   "cell_type": "code",
   "execution_count": 11,
   "id": "084c72f4-0a88-40cc-af1b-838b036ba552",
   "metadata": {},
   "outputs": [],
   "source": [
    "data = {'NOMBRE':['Jeronimo','Jose','David'],\n",
    "        'CARRERA':['Fisica','Medicina','Filología'],\n",
    "        'CORREO':['jero@gmail.com','jose@gmail.com','david@gmail.com']}"
   ]
  },
  {
   "cell_type": "code",
   "execution_count": 13,
   "id": "d067a237-a006-4421-b8f1-d2667d2b8755",
   "metadata": {},
   "outputs": [],
   "source": [
    "estudiantes = pd.DataFrame(data)"
   ]
  },
  {
   "cell_type": "code",
   "execution_count": 15,
   "id": "76d13393-015e-4bd9-a861-39e7d9fbd571",
   "metadata": {},
   "outputs": [
    {
     "name": "stdout",
     "output_type": "stream",
     "text": [
      "     NOMBRE    CARRERA           CORREO\n",
      "0  Jeronimo     Fisica   jero@gmail.com\n",
      "1      Jose   Medicina   jose@gmail.com\n",
      "2     David  Filología  david@gmail.com\n"
     ]
    }
   ],
   "source": [
    "print(estudiantes)"
   ]
  },
  {
   "cell_type": "code",
   "execution_count": null,
   "id": "28dcf983-c290-47bf-a776-dbaa969f7b5a",
   "metadata": {},
   "outputs": [],
   "source": []
  },
  {
   "cell_type": "code",
   "execution_count": null,
   "id": "dfa8cfbc-fbb9-4b90-9eb8-5251dfd2906d",
   "metadata": {},
   "outputs": [],
   "source": []
  }
 ],
 "metadata": {
  "kernelspec": {
   "display_name": "Python [conda env:base] *",
   "language": "python",
   "name": "conda-base-py"
  },
  "language_info": {
   "codemirror_mode": {
    "name": "ipython",
    "version": 3
   },
   "file_extension": ".py",
   "mimetype": "text/x-python",
   "name": "python",
   "nbconvert_exporter": "python",
   "pygments_lexer": "ipython3",
   "version": "3.12.7"
  }
 },
 "nbformat": 4,
 "nbformat_minor": 5
}
